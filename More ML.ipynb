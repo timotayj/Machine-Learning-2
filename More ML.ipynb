{
 "cells": [
  {
   "cell_type": "code",
   "execution_count": 14,
   "metadata": {
    "collapsed": false
   },
   "outputs": [
    {
     "name": "stdout",
     "output_type": "stream",
     "text": [
      "Hello\n"
     ]
    }
   ],
   "source": [
    "print 'Hello'\n",
    "%matplotlib inline"
   ]
  },
  {
   "cell_type": "markdown",
   "metadata": {},
   "source": [
    "## ML tutorials\n",
    "\n",
    "From https://www.toptal.com/machine-learning/machine-learning-theory-an-introductory-primer"
   ]
  },
  {
   "cell_type": "markdown",
   "metadata": {},
   "source": [
    "\n",
    "“A computer program is said to learn from experience E with respect to some task T and some performance measure P, if its performance on T, as measured by P, improves with experience E.” -- Tom Mitchell, Carnegie Mellon University "
   ]
  },
  {
   "cell_type": "markdown",
   "metadata": {},
   "source": [
    "\n",
    "Supervised machine learning: The program is “trained” on a pre-defined set of “training examples”, which then facilitate its ability to reach an accurate conclusion when given new data.\n",
    "    \n",
    "    \n",
    "Unsupervised machine learning: The program is given a bunch of data and must find patterns and relationships therein.\n"
   ]
  },
  {
   "cell_type": "markdown",
   "metadata": {},
   "source": [
    "Supervised learning tries to find h(x). \n",
    "\n",
    "x may consit of mutiple data points.\n",
    "\n",
    "For this example, lets say\n",
    "\n",
    "\\begin{equation}h(x) = \\theta_0 + \\theta_1 x\\end{equation}\n",
    "\n",
    "Where $\\theta_0$ and $\\theta_1$ are constant \n",
    "\n",
    "we want to be ale to find the best values for $\\theta_0$ and $\\theta_1$\n",
    "\n",
    "To do this we will use training exersises \n"
   ]
  },
  {
   "cell_type": "code",
   "execution_count": 22,
   "metadata": {
    "collapsed": false
   },
   "outputs": [
    {
     "data": {
      "text/plain": [
       "<function matplotlib.pyplot.scatter>"
      ]
     },
     "execution_count": 22,
     "metadata": {},
     "output_type": "execute_result"
    },
    {
     "data": {
      "image/png": "[encoded data removed]",
      "text/plain": [
       "<matplotlib.figure.Figure at 0x8e783d0>"
      ]
     },
     "metadata": {},
     "output_type": "display_data"
    }
   ],
   "source": [
    "import pylab\n",
    "import random\n",
    "\n",
    "import matplotlib.pyplot as plt\n",
    "sampleSize = 50\n",
    "\n",
    "\n",
    "random.seed()\n",
    "\n",
    "XVal = []\n",
    "YVal = []\n",
    "for i in range(sampleSize):\n",
    "    newValue = random.random()\n",
    "    XVal.append(newValue)\n",
    "    \n",
    "    \n",
    "for i in range(sampleSize):\n",
    "    newValue = random.random()\n",
    "    YVal.append(newValue)    \n",
    "\n",
    "\n",
    "\n",
    "plt.scatter(XVal, YVal)\n",
    "plt.scatter\n",
    "\n",
    "\n",
    "\n"
   ]
  },
  {
   "cell_type": "markdown",
   "metadata": {},
   "source": [
    "Random data code adapted from http://users.ecs.soton.ac.uk/jn2/teaching/pythonLecture.html\n",
    "\n",
    "Kept in for future ref."
   ]
  },
  {
   "cell_type": "code",
   "execution_count": 31,
   "metadata": {
    "collapsed": false
   },
   "outputs": [
    {
     "data": {
      "text/plain": [
       "<function matplotlib.pyplot.scatter>"
      ]
     },
     "execution_count": 31,
     "metadata": {},
     "output_type": "execute_result"
    },
    {
     "data": {
      "image/png": "[encoded data removed]",
      "text/plain": [
       "<matplotlib.figure.Figure at 0x8bf0670>"
      ]
     },
     "metadata": {},
     "output_type": "display_data"
    }
   ],
   "source": [
    "EmpSatRat = [40,42,43,50,55,54,58,60,61,58,57,61,69,70,75,80,81,78,69,60,81]\n",
    "EmpSatTho = [35,37,40,45,50,55,56,57,58,54,54,47,58,58,58,60,70,71,72,73,78]\n",
    "\n",
    "plt.scatter(EmpSatTho, EmpSatRat)\n",
    "plt.xlabel('Employee Salary in $1000')\n",
    "plt.ylabel('Satisfaction')\n",
    "plt.scatter\n",
    "\n",
    "\n"
   ]
  },
  {
   "cell_type": "code",
   "execution_count": 44,
   "metadata": {
    "collapsed": false
   },
   "outputs": [
    {
     "data": {
      "text/plain": [
       "<function matplotlib.pyplot.scatter>"
      ]
     },
     "execution_count": 44,
     "metadata": {},
     "output_type": "execute_result"
    },
    {
     "data": {
      "image/png": "[encoded data removed]",
      "text/plain": [
       "<matplotlib.figure.Figure at 0x95ec8d0>"
      ]
     },
     "metadata": {},
     "output_type": "display_data"
    }
   ],
   "source": [
    "import numpy as np  \n",
    "import matplotlib.pyplot as plt\n",
    "def graph(formula, x_range):  \n",
    "    x = np.array(x_range)  \n",
    "    y = eval(formula)\n",
    "    plt.plot(x, y)  \n",
    "    plt.show()\n",
    "    \n",
    "\n",
    "\n",
    "EmpSatRat = [40,42,43,50,55,54,58,60,61,58,57,61,69,70,75,80,81,78,69,60,81]\n",
    "EmpSatTho = [35,37,40,45,50,55,56,57,58,54,54,47,58,58,58,60,70,71,72,73,78]\n",
    "\n",
    "plt.scatter(EmpSatTho, EmpSatRat)\n",
    "plt.xlabel('Employee Salary in $1000')\n",
    "plt.ylabel('Satisfaction')\n",
    "plt.scatter\n",
    "   "
   ]
  },
  {
   "cell_type": "code",
   "execution_count": 45,
   "metadata": {
    "collapsed": false
   },
   "outputs": [
    {
     "data": {
      "image/png": "[encoded data removed]",
      "text/plain": [
       "<matplotlib.figure.Figure at 0x9327bd0>"
      ]
     },
     "metadata": {},
     "output_type": "display_data"
    }
   ],
   "source": [
    "EmpSatRat = [40,42,43,50,55,54,58,60,61,58,57,61,69,70,75,80,81,78,69,60,81]\n",
    "EmpSatTho = [35,37,40,45,50,55,56,57,58,54,54,47,58,58,58,60,70,71,72,73,78]\n",
    "\n",
    "plt.scatter(EmpSatTho, EmpSatRat)\n",
    "plt.xlabel('Employee Salary in $1000')\n",
    "plt.ylabel('Satisfaction')\n",
    "plt.scatter\n",
    "graph('12+0.2 + x ', range(30,90))\n"
   ]
  },
  {
   "cell_type": "markdown",
   "metadata": {},
   "source": [
    "Regression is having issues with arrays, switich on CSV, EmpRatSat.csv"
   ]
  },
  {
   "cell_type": "code",
   "execution_count": 44,
   "metadata": {
    "collapsed": false
   },
   "outputs": [
    {
     "name": "stdout",
     "output_type": "stream",
     "text": [
      "R-squared 0.6943444634\n"
     ]
    },
    {
     "data": {
      "image/png": "[encoded data removed]",
      "text/plain": [
       "<matplotlib.figure.Figure at 0x12105490>"
      ]
     },
     "metadata": {},
     "output_type": "display_data"
    }
   ],
   "source": [
    "from sklearn.linear_model import LinearRegression\n",
    "import matplotlib.pylab as plt\n",
    "import pandas as pd\n",
    "from sklearn.cross_validation import train_test_split\n",
    "\n",
    "\n",
    "df = pd.read_csv('EmpRatSat.csv' , sep = ',')\n",
    "y = df['y']\n",
    "X = df[list(df.columns)[:-1]]\n",
    "\n",
    "X_train, X_test, y_train, y_test = train_test_split(X,y)\n",
    "\n",
    "plt.scatter(X,y)\n",
    "\n",
    "plt.xlabel('Employee Salary in $1000')\n",
    "plt.ylabel('Satisfaction')\n",
    "\n",
    "\n",
    "regressor = LinearRegression()\n",
    "regressor.fit(X_train, y_train)\n",
    "y_prediction = regressor.predict(X_test)\n",
    "print 'R-squared', regressor.score(X_test,y_test)\n",
    "\n",
    "\n",
    "\n",
    "\n",
    "\n",
    "\n"
   ]
  },
  {
   "cell_type": "markdown",
   "metadata": {},
   "source": [
    "76% of variance in the test set is explained by the model"
   ]
  },
  {
   "cell_type": "code",
   "execution_count": 79,
   "metadata": {
    "collapsed": false
   },
   "outputs": [
    {
     "name": "stdout",
     "output_type": "stream",
     "text": [
      "-3.53899220994 [-0.41939775 -2.58828988 -7.04261921 -6.13931123 -1.50534298]\n"
     ]
    }
   ],
   "source": [
    "from sklearn.linear_model import LinearRegression\n",
    "import matplotlib.pylab as plt\n",
    "import pandas as pd\n",
    "from sklearn.cross_validation import cross_val_score\n",
    "\n",
    "\n",
    "df = pd.read_csv('EmpRatSat.csv' , sep = ',')\n",
    "X = df[list(df.columns)[:-1]]\n",
    "y = df['y']\n",
    "\n",
    "\n",
    "\n",
    "regressor = LinearRegression()\n",
    "scores = cross_val_score(regressor, X,y,cv=5 )\n",
    "print scores.mean(), scores"
   ]
  },
  {
   "cell_type": "code",
   "execution_count": 25,
   "metadata": {
    "collapsed": false
   },
   "outputs": [
    {
     "name": "stdout",
     "output_type": "stream",
     "text": [
      "A employee earning $70k  should have a rating of : 73.47\n"
     ]
    },
    {
     "name": "stderr",
     "output_type": "stream",
     "text": [
      "C:\\Python27\\lib\\site-packages\\sklearn\\utils\\validation.py:386: DeprecationWarning: Passing 1d arrays as data is deprecated in 0.17 and willraise ValueError in 0.19. Reshape your data either using X.reshape(-1, 1) if your data has a single feature or X.reshape(1, -1) if it contains a single sample.\n",
      "  DeprecationWarning)\n"
     ]
    }
   ],
   "source": [
    "%matplotlib inline\n",
    "from sklearn.linear_model import LinearRegression\n",
    "import matplotlib.pylab as plt\n",
    "import pandas as pd\n",
    "from sklearn.cross_validation import cross_val_score\n",
    "\n",
    "\n",
    "df = pd.read_csv('EmpRatSat.csv' , sep = ',')\n",
    "X = df[list(df.columns)[:-1]]\n",
    "y = df['y']\n",
    "\n",
    "\n",
    "\n",
    "model = LinearRegression()\n",
    "model.fit(X,y)\n",
    "\n",
    "\n",
    "\n",
    "\n",
    "\n",
    "\n",
    "print 'A employee earning $70k  should have a rating of : %.2f' % model.predict([70])[0]\n",
    "\n",
    "\n"
   ]
  },
  {
   "cell_type": "code",
   "execution_count": 46,
   "metadata": {
    "collapsed": false
   },
   "outputs": [
    {
     "name": "stdout",
     "output_type": "stream",
     "text": [
      "R-squared 0.650482179553\n"
     ]
    },
    {
     "data": {
      "image/png": "[encoded data removed]",
      "text/plain": [
       "<matplotlib.figure.Figure at 0x116d92d0>"
      ]
     },
     "metadata": {},
     "output_type": "display_data"
    }
   ],
   "source": [
    "%matplotlib inline\n",
    "from sklearn.linear_model import LinearRegression\n",
    "import matplotlib.pylab as plt\n",
    "import pandas as pd\n",
    "from sklearn.cross_validation import train_test_split\n",
    "import numpy as np\n",
    "from sklearn.preprocessing import PolynomialFeatures\n",
    "\n",
    "\n",
    "df = pd.read_csv('EmpRatSat.csv' , sep = ',')\n",
    "X = df[list(df.columns)[:-1]]\n",
    "y = df['y']\n",
    "X_train, X_test, y_train, y_test = train_test_split(X,y)\n",
    "\n",
    "\n",
    "regressor = LinearRegression()\n",
    "regressor.fit(X_train, y_train)\n",
    "y_prediction = regressor.predict(X_test)\n",
    "\n",
    "xx = np.linspace(90, 26, 100)\n",
    "yy = regressor.predict(xx.reshape(xx.shape[0], 1))\n",
    "plt.scatter(X,y)\n",
    "plt.plot(xx, yy)\n",
    "\n",
    "quadratic_featurizer = PolynomialFeatures(degree=2)\n",
    "X_train_quadratic = quadratic_featurizer.fit_transform(X_train)\n",
    "X_test_quadratic = quadratic_featurizer.transform(X_test)\n",
    "regressor_quadratic = LinearRegression()\n",
    "regressor_quadratic.fit(X_train_quadratic, y_train)\n",
    "\n",
    "\n",
    "xx_quadratic = quadratic_featurizer.transform(xx.reshape(xx.shape[0], 1))\n",
    "plt.plot(xx, regressor_quadratic.predict(xx_quadratic), c='r',linestyle='--')\n",
    "\n",
    "plt.xlabel('Employee Salary in $1000')\n",
    "plt.ylabel('Satisfaction')\n",
    "\n",
    "print 'R-squared', regressor.score(X_test,y_test)\n",
    "\n",
    "\n",
    "\n"
   ]
  },
  {
   "cell_type": "code",
   "execution_count": 64,
   "metadata": {
    "collapsed": false
   },
   "outputs": [
    {
     "data": {
      "text/plain": [
       "[<matplotlib.lines.Line2D at 0x12f24ad0>]"
      ]
     },
     "execution_count": 64,
     "metadata": {},
     "output_type": "execute_result"
    },
    {
     "data": {
      "image/png": "[encoded data removed]",
      "text/plain": [
       "<matplotlib.figure.Figure at 0x13198fb0>"
      ]
     },
     "metadata": {},
     "output_type": "display_data"
    }
   ],
   "source": [
    "\n",
    "from sklearn.linear_model import LinearRegression\n",
    "import matplotlib.pylab as plt\n",
    "import pandas as pd\n",
    "from sklearn.cross_validation import train_test_split\n",
    "import numpy as np\n",
    "from sklearn.preprocessing import PolynomialFeatures\n",
    "\n",
    "\n",
    "df = pd.read_csv('MarketData.csv' , sep = ',')\n",
    "X = df['Open']\n",
    "y = df['Close']\n",
    "\n",
    "plt.xlabel('Open Price')\n",
    "plt.ylabel('Close Price')\n",
    "\n",
    "\n",
    "\n",
    "plt.plot(X,y)"
   ]
  },
  {
   "cell_type": "code",
   "execution_count": 77,
   "metadata": {
    "collapsed": false
   },
   "outputs": [
    {
     "data": {
      "text/plain": [
       "<matplotlib.collections.PathCollection at 0x1227e710>"
      ]
     },
     "execution_count": 77,
     "metadata": {},
     "output_type": "execute_result"
    },
    {
     "name": "stdout",
     "output_type": "stream",
     "text": [
      "\n"
     ]
    },
    {
     "data": {
      "image/png": "[encoded data removed]",
      "text/plain": [
       "<matplotlib.figure.Figure at 0x12427af0>"
      ]
     },
     "metadata": {},
     "output_type": "display_data"
    }
   ],
   "source": [
    "from sklearn.linear_model import LinearRegression\n",
    "import matplotlib.pylab as plt\n",
    "import pandas as pd\n",
    "from sklearn.cross_validation import train_test_split\n",
    "import numpy as np\n",
    "from sklearn.preprocessing import PolynomialFeatures\n",
    "from sklearn.cross_validation import cross_val_score\n",
    "\n",
    "\n",
    "\n",
    "df = pd.read_csv('MarketData.csv' , sep = ',')\n",
    "X = df['Open']\n",
    "y = df['Close']\n",
    "X = np.array([X]).T\n",
    "\n",
    "X_train, X_test, y_train, y_test = train_test_split(X, y)\n",
    "\n",
    "\n",
    "\n",
    "regressor.fit(X_train, y_train)\n",
    "xx = np.linspace(0, 26, 100)\n",
    "yy = regressor.predict(xx.reshape(xx.shape[0], 1))\n",
    "plt.plot(xx, yy)\n",
    "\n",
    "plt.xlabel('Open Price')\n",
    "plt.ylabel('Close Price')\n",
    "\n",
    "\n",
    "regressor = LinearRegression()\n",
    "\n",
    "\n",
    "model = LinearRegression()\n",
    "model.fit(X,y)\n",
    "\n",
    "\n",
    "\n",
    "plt.scatter(X,y)\n"
   ]
  },
  {
   "cell_type": "markdown",
   "metadata": {},
   "source": [
    "Not unsurpising that open and close prices are linked as such, mostly market opens at price close. \n",
    "\n",
    "X = np.array([X]).T used to avoid invalid sklearn error. Arry not correct size"
   ]
  },
  {
   "cell_type": "code",
   "execution_count": null,
   "metadata": {
    "collapsed": true
   },
   "outputs": [],
   "source": []
  }
 ],
 "metadata": {
  "kernelspec": {
   "display_name": "Python 2",
   "language": "python",
   "name": "python2"
  },
  "language_info": {
   "codemirror_mode": {
    "name": "ipython",
    "version": 2
   },
   "file_extension": ".py",
   "mimetype": "text/x-python",
   "name": "python",
   "nbconvert_exporter": "python",
   "pygments_lexer": "ipython2",
   "version": "2.7.10"
  }
 },
 "nbformat": 4,
 "nbformat_minor": 0
}
